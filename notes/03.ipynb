{
 "cells": [
  {
   "attachments": {},
   "cell_type": "markdown",
   "metadata": {},
   "source": [
    "# Structure of Materials"
   ]
  },
  {
   "attachments": {},
   "cell_type": "markdown",
   "metadata": {},
   "source": [
    "## Periodic Table\n",
    "\n",
    "The chemical elements are painstakingly arranged according to their atomic structure and properties in the periodic table, which is a cornerstone of contemporary physics and chemistry. A nuclear physicist must have a thorough understanding of the periodic table since it explains the underlying concepts controlling atomic interactions, nuclear stability, and the origin of matter in the universe.\n",
    "\n",
    "The 18 vertical columns and 7 horizontal rows that make up the periodic table are known as groups and periods, respectively. A set of elements exhibit predictable trends in their reactivity, ionization energies, and electron affinities as well as comparable chemical characteristics. The frequent occurrence of comparable electron configurations within the outermost electron shells of the elements results in this predictable pattern. A principal quantum number is filled in during each period, and elements within the same period exhibit a gradual evolution in their properties.\n",
    "\n",
    "The different areas and classifications serve important functions in comprehending nuclear processes beyond the table's basic organization. As a result of variations in their atomic structures and electron configurations, elements are classified as metals, nonmetals, and metalloids to represent their various physical and chemical properties.\n",
    "\n",
    "### Madelung's Rule and the Aufbau Principles\n",
    "\n",
    "Madelung's Rule and the Aufbau Principle are essential guidelines that dictate the order in which atomic orbitals are filled as the atomic number increases. These rules, together with the concepts of screening and effective charges, form a more comprehensive understanding of the periodic table and the behavior of elements.\n",
    "\n",
    "Madelung's Rule, also known as the diagonal rule, is based on the (n+l) rule, where n refers to the principal quantum number and l corresponds to the azimuthal quantum number. According to this rule, atomic orbitals are filled in the order of increasing (n+l) values. In cases where two orbitals possess the same (n+l) value, the orbital with the lower n value is filled first. This rule provides a systematic approach to predicting electron configurations for elements across the periodic table.\n",
    "\n",
    "The Aufbau Principle, derived from the German word \"aufbauen,\" meaning \"to build up,\" states that electrons fill orbitals starting from the lowest available energy level and proceeding to higher energy levels in a stepwise manner. This principle is guided by the Pauli Exclusion Principle, which asserts that no two electrons within an atom can share the same set of quantum numbers, thus allowing a maximum of two electrons per orbital with opposite spins.\n",
    "\n",
    "Screening, or shielding, is a phenomenon that occurs when electrons in the inner shells of an atom partially obstruct the electrostatic attraction between the positively charged nucleus and the outer electrons. This effect reduces the effective positive charge experienced by the outer electrons, making it easier for them to be removed from the atom. The extent of screening varies depending on the electron's position within the atom and the electron configuration.\n",
    "\n",
    "Effective charge, or effective nuclear charge (Z_eff), is the net positive charge experienced by an electron in a multi-electron atom, taking into account both the attractive force exerted by the protons in the nucleus and the repulsive force due to the screening effect of the inner-shell electrons. It is given by the formula Z_eff = Z - S, where Z is the atomic number and S is the screening constant. A higher Z_eff indicates a stronger attraction between the nucleus and the electron in question, consequently affecting the ionization energy, electron affinity, and chemical reactivity of the element.\n",
    "\n",
    "In summary, Madelung's Rule and the Aufbau Principle provide an organized framework for understanding the electron configurations of elements in the periodic table, while screening and effective charges illuminate the complex interplay of forces within atoms. These principles are critical for nuclear physicists, as they offer profound insights into atomic behavior, chemical properties, and the fundamental nature of matter.\n"
   ]
  },
  {
   "attachments": {},
   "cell_type": "markdown",
   "metadata": {},
   "source": [
    "## Types of bondings\n",
    "\n",
    "#### Ionic Bonding\n",
    "\n",
    "This occurs when the $e$ is transferred from one atom to another, and the resulting ions are attracted between them. It happens specially between elements with very different electronegativity.\n",
    "\n",
    "#### Covalent Bonding\n",
    "\n",
    "It happens when the $e$ are shared between atoms, resulting in a delocalized electron cloud which reduces the energy of the system. It happens specially between elements with similar electronegativity.\n",
    "\n",
    "#### Metallic Bonding\n",
    "\n",
    "When electrons are shared between atoms, but the atoms are not fixed in a lattice. This means that a glue between positive atoms in the material is created, and the electrons are free to move around. This is the reason why metals are good conductors of electricity.\n",
    "\n",
    "#### Van der Waals Bonding (Molecular Bonding)\n",
    "\n",
    "This is a weak bond that happens between molecules. It is a consequence of the dipole-dipole interaction between molecules. It is the weakest of all bonds. Appears particularly in noble gas solids.\n",
    "\n",
    "\n",
    "#### Hydrogen Bonding\n",
    "\n",
    "This is a special case of bonding with hydrogen ions due to small size of the hydrogen atom and contributes considerably in the behavior of water and organic molecules."
   ]
  }
 ],
 "metadata": {
  "language_info": {
   "name": "python"
  },
  "orig_nbformat": 4
 },
 "nbformat": 4,
 "nbformat_minor": 2
}
